{
  "nbformat": 4,
  "nbformat_minor": 0,
  "metadata": {
    "colab": {
      "provenance": []
    },
    "kernelspec": {
      "name": "python3",
      "display_name": "Python 3"
    },
    "language_info": {
      "name": "python"
    }
  },
  "cells": [
    {
      "cell_type": "markdown",
      "source": [
        "# **LOSS/COST FUNCTION IN DEEP LEARNING**"
      ],
      "metadata": {
        "id": "ESi95ZxRXWlO"
      }
    },
    {
      "cell_type": "code",
      "execution_count": 1,
      "metadata": {
        "id": "n5EQu627XV11"
      },
      "outputs": [],
      "source": [
        "import numpy as np\n",
        "\n",
        "y = np.array([1,1,0,0,1])\n",
        "y_hat = np.array([0.30,0.7,1,0.5,0.899])\n"
      ]
    },
    {
      "cell_type": "markdown",
      "source": [
        "**MAE**"
      ],
      "metadata": {
        "id": "Y_oEuREcZCwf"
      }
    },
    {
      "cell_type": "code",
      "source": [
        "def Mean_abs_err(y,y_hat):\n",
        "  tot_err = 0\n",
        "\n",
        "  for y_,y_h in zip(y,y_hat):\n",
        "    tot_err += abs(y_-y_h)\n",
        "  print(\"Total error = \",tot_err)\n",
        "  mae = tot_err/len(y)\n",
        "  return mae\n",
        "\n",
        "Mean_abs_err(y,y_hat)\n",
        "\n"
      ],
      "metadata": {
        "colab": {
          "base_uri": "https://localhost:8080/"
        },
        "id": "BAtFwctfXyiz",
        "outputId": "02c01645-d106-4354-9caf-02a2e372da02"
      },
      "execution_count": 5,
      "outputs": [
        {
          "output_type": "stream",
          "name": "stdout",
          "text": [
            "Total error =  2.601\n"
          ]
        },
        {
          "output_type": "execute_result",
          "data": {
            "text/plain": [
              "0.5202"
            ]
          },
          "metadata": {},
          "execution_count": 5
        }
      ]
    },
    {
      "cell_type": "code",
      "source": [
        "np.mean(np.abs(y-y_hat))"
      ],
      "metadata": {
        "colab": {
          "base_uri": "https://localhost:8080/"
        },
        "id": "PdATN3IHYK2U",
        "outputId": "06701a49-455a-48df-e700-673310d1d83f"
      },
      "execution_count": 8,
      "outputs": [
        {
          "output_type": "execute_result",
          "data": {
            "text/plain": [
              "0.5202"
            ]
          },
          "metadata": {},
          "execution_count": 8
        }
      ]
    },
    {
      "cell_type": "markdown",
      "source": [
        "**LOG LOSS/BINARY_CROSS_ENTROPY**"
      ],
      "metadata": {
        "id": "MISVGlLBZFNx"
      }
    },
    {
      "cell_type": "code",
      "source": [
        "epsilon = 1e-15"
      ],
      "metadata": {
        "id": "oeJAL5orY4ZJ"
      },
      "execution_count": 9,
      "outputs": []
    },
    {
      "cell_type": "code",
      "source": [
        "y_new = [max(i,epsilon) for i in y ]\n",
        "y_new"
      ],
      "metadata": {
        "colab": {
          "base_uri": "https://localhost:8080/"
        },
        "id": "FLAlwsbOZbIz",
        "outputId": "9fa07f8a-c367-4798-ebe4-aa9dd0eea4c6"
      },
      "execution_count": 11,
      "outputs": [
        {
          "output_type": "execute_result",
          "data": {
            "text/plain": [
              "[1, 1, 1e-15, 1e-15, 1]"
            ]
          },
          "metadata": {},
          "execution_count": 11
        }
      ]
    },
    {
      "cell_type": "code",
      "source": [
        "y_new = [min(i,1-epsilon) for i in y_new]\n",
        "y_new"
      ],
      "metadata": {
        "colab": {
          "base_uri": "https://localhost:8080/"
        },
        "id": "b0dwpw8GZdkr",
        "outputId": "fecda997-3d11-42fc-eace-98c1c7dbb9f6"
      },
      "execution_count": 15,
      "outputs": [
        {
          "output_type": "execute_result",
          "data": {
            "text/plain": [
              "[0.999999999999999, 0.999999999999999, 1e-15, 1e-15, 0.999999999999999]"
            ]
          },
          "metadata": {},
          "execution_count": 15
        }
      ]
    },
    {
      "cell_type": "code",
      "source": [
        "y_new = np.array(y_new)"
      ],
      "metadata": {
        "id": "YzuRjSUyZ1xP"
      },
      "execution_count": 16,
      "outputs": []
    },
    {
      "cell_type": "code",
      "source": [
        "y_new"
      ],
      "metadata": {
        "colab": {
          "base_uri": "https://localhost:8080/"
        },
        "id": "sSdVzUpqZ9_X",
        "outputId": "2bc6ea06-86b1-4f27-c5cb-2c7ba288374f"
      },
      "execution_count": 17,
      "outputs": [
        {
          "output_type": "execute_result",
          "data": {
            "text/plain": [
              "array([1.e+00, 1.e+00, 1.e-15, 1.e-15, 1.e+00])"
            ]
          },
          "metadata": {},
          "execution_count": 17
        }
      ]
    },
    {
      "cell_type": "code",
      "source": [
        "np.log(y)"
      ],
      "metadata": {
        "colab": {
          "base_uri": "https://localhost:8080/"
        },
        "id": "BrRqYGBBZ_rG",
        "outputId": "65e63f54-db4a-4c59-8875-b926b1d028e7"
      },
      "execution_count": 18,
      "outputs": [
        {
          "output_type": "stream",
          "name": "stderr",
          "text": [
            "<ipython-input-18-d0070684806c>:1: RuntimeWarning: divide by zero encountered in log\n",
            "  np.log(y)\n"
          ]
        },
        {
          "output_type": "execute_result",
          "data": {
            "text/plain": [
              "array([  0.,   0., -inf, -inf,   0.])"
            ]
          },
          "metadata": {},
          "execution_count": 18
        }
      ]
    },
    {
      "cell_type": "code",
      "source": [
        "np.log(y_new)"
      ],
      "metadata": {
        "colab": {
          "base_uri": "https://localhost:8080/"
        },
        "id": "7Eeaho2NaHa9",
        "outputId": "6d795987-649b-416a-b2f3-fd54bea355a4"
      },
      "execution_count": 19,
      "outputs": [
        {
          "output_type": "execute_result",
          "data": {
            "text/plain": [
              "array([-9.99200722e-16, -9.99200722e-16, -3.45387764e+01, -3.45387764e+01,\n",
              "       -9.99200722e-16])"
            ]
          },
          "metadata": {},
          "execution_count": 19
        }
      ]
    },
    {
      "cell_type": "code",
      "source": [
        "def log_loss(y_hat,y_new):\n",
        "  return -np.mean(y_hat*np.log(y_new)+(1-y_hat)*np.log(1-y_new))"
      ],
      "metadata": {
        "id": "kkLbFqLCaJ63"
      },
      "execution_count": 22,
      "outputs": []
    },
    {
      "cell_type": "code",
      "source": [
        "log_loss(y_hat,y_new)"
      ],
      "metadata": {
        "colab": {
          "base_uri": "https://localhost:8080/"
        },
        "id": "9jhx4XQ9aeFM",
        "outputId": "5a3920a7-5928-4ba8-bb8b-420d58614fba"
      },
      "execution_count": 23,
      "outputs": [
        {
          "output_type": "execute_result",
          "data": {
            "text/plain": [
              "17.967247551986667"
            ]
          },
          "metadata": {},
          "execution_count": 23
        }
      ]
    },
    {
      "cell_type": "code",
      "source": [
        "def Mean_Square_err(y,y_hat):\n",
        "  tot_err = 0\n",
        "\n",
        "  for y_,y_h in zip(y,y_hat):\n",
        "    tot_err += (y_-y_h)**2\n",
        "  print(\"Total error = \",tot_err)\n",
        "  mse = tot_err/len(y)\n",
        "  return mse\n",
        "\n",
        "Mean_Square_err(y,y_hat)\n",
        "\n"
      ],
      "metadata": {
        "colab": {
          "base_uri": "https://localhost:8080/"
        },
        "id": "zHLXFaFDaw6e",
        "outputId": "2583cbbe-103f-48d5-f297-2a3543924448"
      },
      "execution_count": 25,
      "outputs": [
        {
          "output_type": "stream",
          "name": "stdout",
          "text": [
            "Total error =  1.840201\n"
          ]
        },
        {
          "output_type": "execute_result",
          "data": {
            "text/plain": [
              "0.3680402"
            ]
          },
          "metadata": {},
          "execution_count": 25
        }
      ]
    },
    {
      "cell_type": "code",
      "source": [],
      "metadata": {
        "id": "IWKq9HkDbC2u"
      },
      "execution_count": null,
      "outputs": []
    }
  ]
}